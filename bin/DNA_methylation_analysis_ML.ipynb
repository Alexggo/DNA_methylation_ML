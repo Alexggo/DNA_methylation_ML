{
 "cells": [
  {
   "cell_type": "code",
<<<<<<< HEAD
   "execution_count": 2,
   "metadata": {},
   "outputs": [
    {
=======
   "execution_count": 1,
   "metadata": {},
   "outputs": [
    {
     "name": "stderr",
     "output_type": "stream",
     "text": [
      "Using TensorFlow backend.\n"
     ]
    },
    {
>>>>>>> e756c5a0c1808edc2713d3d9c15ae1d9d9eae505
     "name": "stdout",
     "output_type": "stream",
     "text": [
      "successful run\n"
     ]
    }
   ],
   "source": [
    "import csv \n",
    "import scipy \n",
    "import sklearn\n",
    "import os\n",
    "import random\n",
    "from random import shuffle\n",
    "import numpy as np\n",
    "import math\n",
    "import pandas as pd\n",
    "from sklearn.pipeline import make_pipeline\n",
    "from sklearn.preprocessing import StandardScaler\n",
    "#libraries for keras\n",
    "from keras.models import Sequential\n",
    "from keras.layers import Dense\n",
    "from keras.callbacks import EarlyStopping\n",
    "from tensorflow.keras.utils import to_categorical\n",
    "#libraries for plotting\n",
    "import matplotlib\n",
    "from matplotlib import rcParams\n",
    "import matplotlib.pyplot as plt\n",
    "from matplotlib.backends.backend_pdf import PdfPages\n",
    "print(\"successful run\")"
   ]
  },
  {
   "cell_type": "code",
<<<<<<< HEAD
   "execution_count": 3,
=======
   "execution_count": 2,
>>>>>>> e756c5a0c1808edc2713d3d9c15ae1d9d9eae505
   "metadata": {},
   "outputs": [
    {
     "name": "stdout",
     "output_type": "stream",
     "text": [
      "(656, 437037)\n",
      "(656,)\n",
      "(656,)\n",
      "end\n"
     ]
    }
   ],
   "source": [
    "counter = 0\n",
    "labels_age = []\n",
    "labels_sex = []\n",
    "cpg_intensities = np.zeros((656,437037))\n",
    "with open(\"../../../Datasets/out.csv\") as f:\n",
    "    for row in f:\n",
    "        participant_all_data = row.split(',')\n",
    "        labels_age.append(participant_all_data[1])\n",
    "        labels_sex.append(participant_all_data[0])\n",
    "        cpg_intensities[counter] = participant_all_data[2:437039]\n",
    "        counter += 1\n",
    "labels_age = np.array(labels_age)\n",
    "labels_sex = np.array(labels_sex)\n",
    "print(cpg_intensities.shape)\n",
    "print(labels_age.shape)\n",
    "print(labels_sex.shape)\n",
    "print(\"end\")\n"
   ]
  },
  {
   "cell_type": "code",
<<<<<<< HEAD
   "execution_count": 4,
   "metadata": {},
   "outputs": [
    {
     "name": "stdout",
     "output_type": "stream",
     "text": [
      "(656, 437037)\n"
     ]
    }
   ],
=======
   "execution_count": null,
   "metadata": {},
   "outputs": [],
>>>>>>> e756c5a0c1808edc2713d3d9c15ae1d9d9eae505
   "source": [
    "# shuffle the data\n",
    "import random\n",
    "import collections\n",
    "indices = [i for i in range(counter)]\n",
    "random.shuffle(indices)\n",
    "shuffled_labels_age = [float(labels_age[i]) for i in indices]\n",
    "shuffled_labels_sex = [int(float(labels_sex[j])) for j in indices]\n",
    "shuffled_cpg_intensities = [cpg_intensities[k] for k in indices]\n",
    "\n",
    "shuffled_labels_age = np.array(shuffled_labels_age)\n",
    "shuffled_labels_sex = np.array(shuffled_labels_sex)\n",
    "shuffled_cpg_intensities = np.array(shuffled_cpg_intensities)\n",
    "\n",
    "print(shuffled_cpg_intensities.shape)\n",
    "occurrences = collections.Counter(shuffled_labels_sex)\n",
    "#print(shuffled_labels_sex)\n",
    "\n"
   ]
  },
  {
   "cell_type": "code",
<<<<<<< HEAD
   "execution_count": 5,
   "metadata": {},
   "outputs": [
    {
     "name": "stdout",
     "output_type": "stream",
     "text": [
      "number of males =  318\n",
      "number of females =  338\n"
     ]
    }
   ],
=======
   "execution_count": null,
   "metadata": {},
   "outputs": [],
>>>>>>> e756c5a0c1808edc2713d3d9c15ae1d9d9eae505
   "source": [
    "print(\"number of males = \", occurrences[1])\n",
    "print(\"number of females = \", occurrences[0])"
   ]
  },
  {
   "cell_type": "code",
<<<<<<< HEAD
   "execution_count": 6,
   "metadata": {},
   "outputs": [
    {
     "name": "stdout",
     "output_type": "stream",
     "text": [
      "524\n",
      "(524, 437037)\n",
      "(132, 437037)\n"
     ]
    }
   ],
=======
   "execution_count": null,
   "metadata": {},
   "outputs": [],
>>>>>>> e756c5a0c1808edc2713d3d9c15ae1d9d9eae505
   "source": [
    "# split into training and test sets\n",
    "train_size = int(0.8*len(shuffled_labels_age))\n",
    "print(train_size)\n",
    "Y_train_age = shuffled_labels_age[:train_size]\n",
    "Y_test_age = shuffled_labels_age[train_size:len(shuffled_labels_age)]\n",
    "\n",
    "Y_train_sex = shuffled_labels_sex[:train_size]\n",
    "Y_test_sex = shuffled_labels_sex[train_size: len(shuffled_labels_sex)]\n",
    "\n",
    "X_train_cpgs = shuffled_cpg_intensities[:train_size]\n",
    "X_test_cpgs = shuffled_cpg_intensities[train_size:len(shuffled_cpg_intensities)]\n",
    "\n",
    "print(X_train_cpgs.shape)\n",
    "print(X_test_cpgs.shape)\n",
    "\n",
    "\n",
    "\n"
   ]
  },
  {
   "cell_type": "code",
<<<<<<< HEAD
   "execution_count": 7,
   "metadata": {},
   "outputs": [
    {
     "name": "stdout",
     "output_type": "stream",
     "text": [
      "successful run\n"
     ]
    }
   ],
=======
   "execution_count": null,
   "metadata": {},
   "outputs": [],
>>>>>>> e756c5a0c1808edc2713d3d9c15ae1d9d9eae505
   "source": [
    "# set model parameters\n",
    "node_string = '16,32'#argv[1]#'256,512,1024',1024,1024,1024'\n",
    "nodes_size = list(np.array(node_string.split(','),dtype='int32'))\n",
    "activation_hidden = 'sigmoid'#'relu','sigmoid'\n",
    "optimizer_use = 'sgd' #'adam','sgd'\n",
    "validation_split_use = 0.2\n",
    "epochs_use = 50\n",
    "batch_size_use = 32\n",
    "print(\"successful run\")"
   ]
  },
  {
   "cell_type": "code",
<<<<<<< HEAD
   "execution_count": 8,
=======
   "execution_count": null,
>>>>>>> e756c5a0c1808edc2713d3d9c15ae1d9d9eae505
   "metadata": {},
   "outputs": [],
   "source": [
    "# create model\n",
    "model = Sequential()\n",
    "n_cols = X_train_cpgs.shape[1]"
   ]
  },
  {
   "cell_type": "code",
<<<<<<< HEAD
   "execution_count": 9,
   "metadata": {},
   "outputs": [
    {
     "name": "stdout",
     "output_type": "stream",
     "text": [
      "successful run\n"
     ]
    }
   ],
=======
   "execution_count": null,
   "metadata": {},
   "outputs": [],
>>>>>>> e756c5a0c1808edc2713d3d9c15ae1d9d9eae505
   "source": [
    "# add model layers\n",
    "cats = [1,0]\n",
    "for g in range(len(nodes_size)):\n",
    "    if g == 0:\n",
    "        model.add(Dense(nodes_size[g], activation = activation_hidden, input_shape=(n_cols,)))\n",
    "    else:\n",
    "        model.add(Dense(nodes_size[g], activation = activation_hidden))\n",
    "\n",
    "model.add(Dense(len(cats), activation='softmax'))\n",
    "print(\"successful run\")"
   ]
  },
  {
   "cell_type": "code",
<<<<<<< HEAD
   "execution_count": 10,
   "metadata": {},
   "outputs": [
    {
     "name": "stdout",
     "output_type": "stream",
     "text": [
      "_________________________________________________________________\n",
      "Layer (type)                 Output Shape              Param #   \n",
      "=================================================================\n",
      "dense_1 (Dense)              (None, 16)                6992608   \n",
      "_________________________________________________________________\n",
      "dense_2 (Dense)              (None, 32)                544       \n",
      "_________________________________________________________________\n",
      "dense_3 (Dense)              (None, 2)                 66        \n",
      "=================================================================\n",
      "Total params: 6,993,218\n",
      "Trainable params: 6,993,218\n",
      "Non-trainable params: 0\n",
      "_________________________________________________________________\n"
     ]
    }
   ],
=======
   "execution_count": null,
   "metadata": {},
   "outputs": [],
>>>>>>> e756c5a0c1808edc2713d3d9c15ae1d9d9eae505
   "source": [
    "model.summary()"
   ]
  },
  {
   "cell_type": "code",
<<<<<<< HEAD
   "execution_count": 11,
=======
   "execution_count": null,
>>>>>>> e756c5a0c1808edc2713d3d9c15ae1d9d9eae505
   "metadata": {},
   "outputs": [],
   "source": [
    "# compile model using accuracy as a measure of model performance\n",
    "model.compile(optimizer=optimizer_use, loss='categorical_crossentropy',metrics=['accuracy'])"
   ]
  },
  {
   "cell_type": "code",
<<<<<<< HEAD
   "execution_count": 12,
=======
   "execution_count": null,
>>>>>>> e756c5a0c1808edc2713d3d9c15ae1d9d9eae505
   "metadata": {},
   "outputs": [],
   "source": [
    "# set early stopping monitor so the model stops training when it won't improve anymore\n",
    "early_stopping_monitor = EarlyStopping(patience=3)"
   ]
  },
  {
   "cell_type": "code",
<<<<<<< HEAD
   "execution_count": 13,
   "metadata": {},
   "outputs": [
    {
     "name": "stdout",
     "output_type": "stream",
     "text": [
      "Train on 419 samples, validate on 105 samples\n",
      "Epoch 1/50\n",
      "419/419 [==============================] - 13s 31ms/step - loss: 0.6984 - acc: 0.5060 - val_loss: 0.6931 - val_acc: 0.5048\n",
      "Epoch 2/50\n",
      "419/419 [==============================] - 11s 27ms/step - loss: 0.6935 - acc: 0.4940 - val_loss: 0.6933 - val_acc: 0.4952\n",
      "Epoch 3/50\n",
      "419/419 [==============================] - 10s 24ms/step - loss: 0.6943 - acc: 0.4821 - val_loss: 0.6932 - val_acc: 0.4952\n",
      "Epoch 4/50\n",
      "419/419 [==============================] - 10s 25ms/step - loss: 0.6942 - acc: 0.4916 - val_loss: 0.6937 - val_acc: 0.5048\n"
     ]
    }
   ],
=======
   "execution_count": null,
   "metadata": {},
   "outputs": [],
>>>>>>> e756c5a0c1808edc2713d3d9c15ae1d9d9eae505
   "source": [
    "# train DNN\n",
    "Y_train_sex = to_categorical(Y_train_sex)\n",
    "history_callback =model.fit(X_train_cpgs, Y_train_sex, validation_split=validation_split_use, epochs=epochs_use, callbacks=[early_stopping_monitor],batch_size=batch_size_use,verbose=1)\n",
    "\n"
   ]
  },
  {
   "cell_type": "code",
<<<<<<< HEAD
   "execution_count": 14,
   "metadata": {},
   "outputs": [
    {
     "name": "stdout",
     "output_type": "stream",
     "text": [
      "524/524 [==============================] - 8s 15ms/step\n",
      "Train Accuracy: 49.62\n"
     ]
    }
   ],
=======
   "execution_count": null,
   "metadata": {},
   "outputs": [],
>>>>>>> e756c5a0c1808edc2713d3d9c15ae1d9d9eae505
   "source": [
    "#evaluate the model accuracy\n",
    "_, train_accuracy = model.evaluate(X_train_cpgs, Y_train_sex)\n",
    "print('Train Accuracy: %.2f' % (train_accuracy*100))"
   ]
  },
  {
   "cell_type": "code",
<<<<<<< HEAD
   "execution_count": 15,
   "metadata": {},
   "outputs": [
    {
     "name": "stdout",
     "output_type": "stream",
     "text": [
      "132/132 [==============================] - 2s 13ms/step\n",
      "[[0.47801775 0.52198225]\n",
      " [0.47798207 0.5220179 ]\n",
      " [0.47795194 0.522048  ]\n",
      " [0.4779843  0.5220157 ]\n",
      " [0.47800642 0.5219936 ]\n",
      " [0.47801805 0.52198195]\n",
      " [0.47794423 0.52205575]\n",
      " [0.47796908 0.5220309 ]\n",
      " [0.47789833 0.52210164]\n",
      " [0.47807327 0.52192676]\n",
      " [0.47796628 0.52203375]\n",
      " [0.4780904  0.5219096 ]\n",
      " [0.47800693 0.52199304]\n",
      " [0.4779612  0.5220388 ]\n",
      " [0.4779848  0.52201515]\n",
      " [0.47793746 0.52206254]\n",
      " [0.4780773  0.5219227 ]\n",
      " [0.47798613 0.52201384]\n",
      " [0.47804117 0.5219588 ]\n",
      " [0.4779721  0.5220279 ]\n",
      " [0.47810254 0.52189744]\n",
      " [0.4780267  0.5219734 ]\n",
      " [0.47797427 0.52202564]\n",
      " [0.47802505 0.5219749 ]\n",
      " [0.4779676  0.5220324 ]\n",
      " [0.4779958  0.52200425]\n",
      " [0.4779477  0.5220523 ]\n",
      " [0.47797513 0.52202487]\n",
      " [0.47810897 0.521891  ]\n",
      " [0.4780757  0.52192426]\n",
      " [0.4779705  0.52202946]\n",
      " [0.47802487 0.5219751 ]\n",
      " [0.47799358 0.52200645]\n",
      " [0.47798672 0.52201325]\n",
      " [0.47800443 0.52199554]\n",
      " [0.47807023 0.5219298 ]\n",
      " [0.47799802 0.52200204]\n",
      " [0.47804204 0.52195793]\n",
      " [0.47806907 0.52193093]\n",
      " [0.47800374 0.5219963 ]\n",
      " [0.47793886 0.52206117]\n",
      " [0.4779878  0.5220122 ]\n",
      " [0.47786665 0.5221334 ]\n",
      " [0.47794643 0.5220536 ]\n",
      " [0.47802994 0.52197003]\n",
      " [0.47800896 0.52199095]\n",
      " [0.47802162 0.5219784 ]\n",
      " [0.47798187 0.5220181 ]\n",
      " [0.47797424 0.52202576]\n",
      " [0.47798008 0.52202   ]\n",
      " [0.47802415 0.52197593]\n",
      " [0.47792912 0.5220709 ]\n",
      " [0.4780047  0.52199525]\n",
      " [0.47807464 0.52192533]\n",
      " [0.47799358 0.52200645]\n",
      " [0.47813118 0.5218689 ]\n",
      " [0.477979   0.52202106]\n",
      " [0.47805953 0.5219405 ]\n",
      " [0.47798535 0.5220146 ]\n",
      " [0.47799808 0.522002  ]\n",
      " [0.47801372 0.52198625]\n",
      " [0.4779775  0.52202255]\n",
      " [0.47796568 0.5220344 ]\n",
      " [0.4779436  0.5220564 ]\n",
      " [0.47802645 0.5219735 ]\n",
      " [0.47799438 0.5220056 ]\n",
      " [0.47795781 0.52204216]\n",
      " [0.4780221  0.5219779 ]\n",
      " [0.477928   0.52207196]\n",
      " [0.47801104 0.521989  ]\n",
      " [0.47805002 0.52194995]\n",
      " [0.47792074 0.5220793 ]\n",
      " [0.47810215 0.52189785]\n",
      " [0.47802708 0.5219729 ]\n",
      " [0.47803265 0.5219674 ]\n",
      " [0.47798648 0.52201355]\n",
      " [0.47801054 0.52198946]\n",
      " [0.47806597 0.52193403]\n",
      " [0.47801492 0.52198505]\n",
      " [0.4779574  0.52204263]\n",
      " [0.47798413 0.52201587]\n",
      " [0.4779654  0.52203465]\n",
      " [0.47799012 0.5220098 ]\n",
      " [0.47801918 0.52198076]\n",
      " [0.4780097  0.5219903 ]\n",
      " [0.47801346 0.5219865 ]\n",
      " [0.47801605 0.5219839 ]\n",
      " [0.47800115 0.5219988 ]\n",
      " [0.4781019  0.5218981 ]\n",
      " [0.47800863 0.5219914 ]\n",
      " [0.47813287 0.5218672 ]\n",
      " [0.47795343 0.52204657]\n",
      " [0.47800097 0.52199906]\n",
      " [0.47799808 0.5220019 ]\n",
      " [0.47795665 0.5220433 ]\n",
      " [0.4779997  0.52200025]\n",
      " [0.4778814  0.52211857]\n",
      " [0.4780307  0.52196926]\n",
      " [0.4780119  0.52198803]\n",
      " [0.47812036 0.5218797 ]\n",
      " [0.4780057  0.52199435]\n",
      " [0.47797263 0.5220274 ]\n",
      " [0.47791806 0.52208185]\n",
      " [0.47797704 0.522023  ]\n",
      " [0.4780635  0.52193654]\n",
      " [0.47804546 0.52195454]\n",
      " [0.4779623  0.52203774]\n",
      " [0.47794858 0.52205145]\n",
      " [0.47794077 0.5220592 ]\n",
      " [0.4780557  0.5219443 ]\n",
      " [0.4779235  0.5220764 ]\n",
      " [0.47796598 0.52203405]\n",
      " [0.4779236  0.52207637]\n",
      " [0.47803825 0.5219618 ]\n",
      " [0.47803038 0.5219696 ]\n",
      " [0.47802156 0.52197844]\n",
      " [0.47801062 0.52198935]\n",
      " [0.47802573 0.5219742 ]\n",
      " [0.47787508 0.5221249 ]\n",
      " [0.47805306 0.521947  ]\n",
      " [0.4779732  0.52202684]\n",
      " [0.47794497 0.52205503]\n",
      " [0.47807476 0.52192515]\n",
      " [0.47806036 0.52193964]\n",
      " [0.47796008 0.52203995]\n",
      " [0.47795394 0.5220461 ]\n",
      " [0.4779302  0.5220699 ]\n",
      " [0.47801784 0.52198213]\n",
      " [0.47799686 0.5220031 ]\n",
      " [0.4779787  0.52202123]\n",
      " [0.47797567 0.52202433]\n",
      " [0.47800678 0.5219933 ]]\n",
      "Test Accuracy: 43.94\n"
     ]
    }
   ],
=======
   "execution_count": null,
   "metadata": {},
   "outputs": [],
>>>>>>> e756c5a0c1808edc2713d3d9c15ae1d9d9eae505
   "source": [
    "#test set accuracy\n",
    "Y_test_sex = to_categorical(Y_test_sex)\n",
    "_, test_accuracy = model.evaluate(X_test_cpgs, Y_test_sex)\n",
    "Y_predictions = model.predict(X_test_cpgs)\n",
    "print(Y_predictions)\n",
    "print('Test Accuracy: %.2f' % (test_accuracy*100))"
   ]
  },
  {
   "cell_type": "code",
<<<<<<< HEAD
   "execution_count": 25,
   "metadata": {},
   "outputs": [
    {
     "name": "stdout",
     "output_type": "stream",
     "text": [
      "[[0.47801775 0.52198225]\n",
      " [0.47798207 0.5220179 ]\n",
      " [0.47795194 0.522048  ]\n",
      " [0.4779843  0.5220157 ]\n",
      " [0.47800642 0.5219936 ]\n",
      " [0.47801805 0.52198195]\n",
      " [0.47794423 0.52205575]\n",
      " [0.47796908 0.5220309 ]\n",
      " [0.47789833 0.52210164]\n",
      " [0.47807327 0.52192676]\n",
      " [0.47796628 0.52203375]\n",
      " [0.4780904  0.5219096 ]\n",
      " [0.47800693 0.52199304]\n",
      " [0.4779612  0.5220388 ]\n",
      " [0.4779848  0.52201515]\n",
      " [0.47793746 0.52206254]\n",
      " [0.4780773  0.5219227 ]\n",
      " [0.47798613 0.52201384]\n",
      " [0.47804117 0.5219588 ]\n",
      " [0.4779721  0.5220279 ]\n",
      " [0.47810254 0.52189744]\n",
      " [0.4780267  0.5219734 ]\n",
      " [0.47797427 0.52202564]\n",
      " [0.47802505 0.5219749 ]\n",
      " [0.4779676  0.5220324 ]\n",
      " [0.4779958  0.52200425]\n",
      " [0.4779477  0.5220523 ]\n",
      " [0.47797513 0.52202487]\n",
      " [0.47810897 0.521891  ]\n",
      " [0.4780757  0.52192426]\n",
      " [0.4779705  0.52202946]\n",
      " [0.47802487 0.5219751 ]\n",
      " [0.47799358 0.52200645]\n",
      " [0.47798672 0.52201325]\n",
      " [0.47800443 0.52199554]\n",
      " [0.47807023 0.5219298 ]\n",
      " [0.47799802 0.52200204]\n",
      " [0.47804204 0.52195793]\n",
      " [0.47806907 0.52193093]\n",
      " [0.47800374 0.5219963 ]\n",
      " [0.47793886 0.52206117]\n",
      " [0.4779878  0.5220122 ]\n",
      " [0.47786665 0.5221334 ]\n",
      " [0.47794643 0.5220536 ]\n",
      " [0.47802994 0.52197003]\n",
      " [0.47800896 0.52199095]\n",
      " [0.47802162 0.5219784 ]\n",
      " [0.47798187 0.5220181 ]\n",
      " [0.47797424 0.52202576]\n",
      " [0.47798008 0.52202   ]\n",
      " [0.47802415 0.52197593]\n",
      " [0.47792912 0.5220709 ]\n",
      " [0.4780047  0.52199525]\n",
      " [0.47807464 0.52192533]\n",
      " [0.47799358 0.52200645]\n",
      " [0.47813118 0.5218689 ]\n",
      " [0.477979   0.52202106]\n",
      " [0.47805953 0.5219405 ]\n",
      " [0.47798535 0.5220146 ]\n",
      " [0.47799808 0.522002  ]\n",
      " [0.47801372 0.52198625]\n",
      " [0.4779775  0.52202255]\n",
      " [0.47796568 0.5220344 ]\n",
      " [0.4779436  0.5220564 ]\n",
      " [0.47802645 0.5219735 ]\n",
      " [0.47799438 0.5220056 ]\n",
      " [0.47795781 0.52204216]\n",
      " [0.4780221  0.5219779 ]\n",
      " [0.477928   0.52207196]\n",
      " [0.47801104 0.521989  ]\n",
      " [0.47805002 0.52194995]\n",
      " [0.47792074 0.5220793 ]\n",
      " [0.47810215 0.52189785]\n",
      " [0.47802708 0.5219729 ]\n",
      " [0.47803265 0.5219674 ]\n",
      " [0.47798648 0.52201355]\n",
      " [0.47801054 0.52198946]\n",
      " [0.47806597 0.52193403]\n",
      " [0.47801492 0.52198505]\n",
      " [0.4779574  0.52204263]\n",
      " [0.47798413 0.52201587]\n",
      " [0.4779654  0.52203465]\n",
      " [0.47799012 0.5220098 ]\n",
      " [0.47801918 0.52198076]\n",
      " [0.4780097  0.5219903 ]\n",
      " [0.47801346 0.5219865 ]\n",
      " [0.47801605 0.5219839 ]\n",
      " [0.47800115 0.5219988 ]\n",
      " [0.4781019  0.5218981 ]\n",
      " [0.47800863 0.5219914 ]\n",
      " [0.47813287 0.5218672 ]\n",
      " [0.47795343 0.52204657]\n",
      " [0.47800097 0.52199906]\n",
      " [0.47799808 0.5220019 ]\n",
      " [0.47795665 0.5220433 ]\n",
      " [0.4779997  0.52200025]\n",
      " [0.4778814  0.52211857]\n",
      " [0.4780307  0.52196926]\n",
      " [0.4780119  0.52198803]\n",
      " [0.47812036 0.5218797 ]\n",
      " [0.4780057  0.52199435]\n",
      " [0.47797263 0.5220274 ]\n",
      " [0.47791806 0.52208185]\n",
      " [0.47797704 0.522023  ]\n",
      " [0.4780635  0.52193654]\n",
      " [0.47804546 0.52195454]\n",
      " [0.4779623  0.52203774]\n",
      " [0.47794858 0.52205145]\n",
      " [0.47794077 0.5220592 ]\n",
      " [0.4780557  0.5219443 ]\n",
      " [0.4779235  0.5220764 ]\n",
      " [0.47796598 0.52203405]\n",
      " [0.4779236  0.52207637]\n",
      " [0.47803825 0.5219618 ]\n",
      " [0.47803038 0.5219696 ]\n",
      " [0.47802156 0.52197844]\n",
      " [0.47801062 0.52198935]\n",
      " [0.47802573 0.5219742 ]\n",
      " [0.47787508 0.5221249 ]\n",
      " [0.47805306 0.521947  ]\n",
      " [0.4779732  0.52202684]\n",
      " [0.47794497 0.52205503]\n",
      " [0.47807476 0.52192515]\n",
      " [0.47806036 0.52193964]\n",
      " [0.47796008 0.52203995]\n",
      " [0.47795394 0.5220461 ]\n",
      " [0.4779302  0.5220699 ]\n",
      " [0.47801784 0.52198213]\n",
      " [0.47799686 0.5220031 ]\n",
      " [0.4779787  0.52202123]\n",
      " [0.47797567 0.52202433]\n",
      " [0.47800678 0.5219933 ]]\n",
      "(array([1]),)\n",
      "(array([1]),)\n",
      "(array([1]),)\n",
      "(array([1]),)\n",
      "(array([1]),)\n",
      "(array([1]),)\n",
      "(array([1]),)\n",
      "(array([1]),)\n",
      "(array([1]),)\n",
      "(array([1]),)\n",
      "(array([1]),)\n",
      "(array([1]),)\n",
      "(array([1]),)\n",
      "(array([1]),)\n",
      "(array([1]),)\n",
      "(array([1]),)\n",
      "(array([1]),)\n",
      "(array([1]),)\n",
      "(array([1]),)\n",
      "(array([1]),)\n",
      "(array([1]),)\n",
      "(array([1]),)\n",
      "(array([1]),)\n",
      "(array([1]),)\n",
      "(array([1]),)\n",
      "(array([1]),)\n",
      "(array([1]),)\n",
      "(array([1]),)\n",
      "(array([1]),)\n",
      "(array([1]),)\n",
      "(array([1]),)\n",
      "(array([1]),)\n",
      "(array([1]),)\n",
      "(array([1]),)\n",
      "(array([1]),)\n",
      "(array([1]),)\n",
      "(array([1]),)\n",
      "(array([1]),)\n",
      "(array([1]),)\n",
      "(array([1]),)\n",
      "(array([1]),)\n",
      "(array([1]),)\n",
      "(array([1]),)\n",
      "(array([1]),)\n",
      "(array([1]),)\n",
      "(array([1]),)\n",
      "(array([1]),)\n",
      "(array([1]),)\n",
      "(array([1]),)\n",
      "(array([1]),)\n",
      "(array([1]),)\n",
      "(array([1]),)\n",
      "(array([1]),)\n",
      "(array([1]),)\n",
      "(array([1]),)\n",
      "(array([1]),)\n",
      "(array([1]),)\n",
      "(array([1]),)\n",
      "(array([1]),)\n",
      "(array([1]),)\n",
      "(array([1]),)\n",
      "(array([1]),)\n",
      "(array([1]),)\n",
      "(array([1]),)\n",
      "(array([1]),)\n",
      "(array([1]),)\n",
      "(array([1]),)\n",
      "(array([1]),)\n",
      "(array([1]),)\n",
      "(array([1]),)\n",
      "(array([1]),)\n",
      "(array([1]),)\n",
      "(array([1]),)\n",
      "(array([1]),)\n",
      "(array([1]),)\n",
      "(array([1]),)\n",
      "(array([1]),)\n",
      "(array([1]),)\n",
      "(array([1]),)\n",
      "(array([1]),)\n",
      "(array([1]),)\n",
      "(array([1]),)\n",
      "(array([1]),)\n",
      "(array([1]),)\n",
      "(array([1]),)\n",
      "(array([1]),)\n",
      "(array([1]),)\n",
      "(array([1]),)\n",
      "(array([1]),)\n",
      "(array([1]),)\n",
      "(array([1]),)\n",
      "(array([1]),)\n",
      "(array([1]),)\n",
      "(array([1]),)\n",
      "(array([1]),)\n",
      "(array([1]),)\n",
      "(array([1]),)\n",
      "(array([1]),)\n",
      "(array([1]),)\n",
      "(array([1]),)\n",
      "(array([1]),)\n",
      "(array([1]),)\n",
      "(array([1]),)\n",
      "(array([1]),)\n",
      "(array([1]),)\n",
      "(array([1]),)\n",
      "(array([1]),)\n",
      "(array([1]),)\n",
      "(array([1]),)\n",
      "(array([1]),)\n",
      "(array([1]),)\n",
      "(array([1]),)\n",
      "(array([1]),)\n",
      "(array([1]),)\n",
      "(array([1]),)\n",
      "(array([1]),)\n",
      "(array([1]),)\n",
      "(array([1]),)\n",
      "(array([1]),)\n",
      "(array([1]),)\n",
      "(array([1]),)\n",
      "(array([1]),)\n",
      "(array([1]),)\n",
      "(array([1]),)\n",
      "(array([1]),)\n",
      "(array([1]),)\n",
      "(array([1]),)\n",
      "(array([1]),)\n",
      "(array([1]),)\n",
      "(array([1]),)\n",
      "(array([1]),)\n",
      "(array([1]),)\n",
      "misclassified males =  0\n",
      "misclassified females =  0\n"
     ]
    }
   ],
   "source": [
    "# count number of wrongly classified p = 1/p = 0\n",
    "counter = 0\n",
    "misclass_males = 0\n",
    "misclass_females = 0\n",
    "print(Y_predictions)\n",
    "for pred in Y_predictions:\n",
    "    print(np.where(pred == max(pred)))\n",
    "    #if np.where(pred == max(pred)) != Y_test_sex[counter]:\n",
    "    #    if Y_test_sex[counter] == 1:\n",
    "     #       misclass_males += 1\n",
    "     #   else:\n",
    "      #      misclass_females += 1\n",
    "    counter += 1\n",
    "print(\"misclassified males = \", misclass_males)\n",
    "print(\"misclassified females = \", misclass_females)\n",
    "    "
   ]
  },
  {
   "cell_type": "code",
=======
>>>>>>> e756c5a0c1808edc2713d3d9c15ae1d9d9eae505
   "execution_count": null,
   "metadata": {},
   "outputs": [],
   "source": []
  }
 ],
 "metadata": {
  "kernelspec": {
   "display_name": "Python 3",
   "language": "python",
   "name": "python3"
  },
  "language_info": {
   "codemirror_mode": {
    "name": "ipython",
    "version": 3
   },
   "file_extension": ".py",
   "mimetype": "text/x-python",
   "name": "python",
   "nbconvert_exporter": "python",
   "pygments_lexer": "ipython3",
   "version": "3.6.7"
  }
 },
 "nbformat": 4,
 "nbformat_minor": 5
}
