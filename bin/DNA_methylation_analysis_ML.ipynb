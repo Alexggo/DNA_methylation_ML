{
 "cells": [
  {
   "cell_type": "code",
   "execution_count": 17,
   "metadata": {},
   "outputs": [
    {
     "name": "stdout",
     "output_type": "stream",
     "text": [
      "successful run\n"
     ]
    }
   ],
   "source": [
    "import csv \n",
    "import scipy \n",
    "import sklearn\n",
    "import os\n",
    "import random\n",
    "from random import shuffle\n",
    "import numpy as np\n",
    "import math\n",
    "import pandas as pd\n",
    "from sklearn.pipeline import make_pipeline\n",
    "from sklearn.preprocessing import StandardScaler\n",
    "#libraries for keras\n",
    "from keras.models import Sequential\n",
    "from keras.layers import Dense\n",
    "from keras.callbacks import EarlyStopping\n",
    "from tensorflow.keras.utils import to_categorical\n",
    "#libraries for plotting\n",
    "import matplotlib\n",
    "from matplotlib import rcParams\n",
    "import matplotlib.pyplot as plt\n",
    "from matplotlib.backends.backend_pdf import PdfPages\n",
    "print(\"successful run\")"
   ]
  },
  {
   "cell_type": "code",
   "execution_count": 18,
   "metadata": {},
   "outputs": [
    {
     "name": "stdout",
     "output_type": "stream",
     "text": [
      "(656, 437037)\n",
      "(656,)\n",
      "(656,)\n",
      "end\n"
     ]
    }
   ],
   "source": [
    "counter = 0\n",
    "labels_age = []\n",
    "labels_sex = []\n",
    "cpg_intensities = np.zeros((656,437037))\n",
    "with open(\"../../../Datasets/out.csv\") as f:\n",
    "    for row in f:\n",
    "        participant_all_data = row.split(',')\n",
    "        labels_age.append(participant_all_data[1])\n",
    "        labels_sex.append(participant_all_data[0])\n",
    "        cpg_intensities[counter] = participant_all_data[2:437039]\n",
    "        counter += 1\n",
    "labels_age = np.array(labels_age)\n",
    "labels_sex = np.array(labels_sex)\n",
    "print(cpg_intensities.shape)\n",
    "print(labels_age.shape)\n",
    "print(labels_sex.shape)\n",
    "print(\"end\")\n"
   ]
  },
  {
   "cell_type": "code",
   "execution_count": 19,
   "metadata": {},
   "outputs": [
    {
     "name": "stdout",
     "output_type": "stream",
     "text": [
      "(656, 437037)\n"
     ]
    }
   ],
   "source": [
    "# shuffle the data\n",
    "import random\n",
    "import collections\n",
    "indices = [i for i in range(counter)]\n",
    "random.shuffle(indices)\n",
    "shuffled_labels_age = [float(labels_age[i]) for i in indices]\n",
    "shuffled_labels_sex = [int(float(labels_sex[j])) for j in indices]\n",
    "shuffled_cpg_intensities = [cpg_intensities[k] for k in indices]\n",
    "\n",
    "shuffled_labels_age = np.array(shuffled_labels_age)\n",
    "shuffled_labels_sex = np.array(shuffled_labels_sex)\n",
    "shuffled_cpg_intensities = np.array(shuffled_cpg_intensities)\n",
    "\n",
    "print(shuffled_cpg_intensities.shape)\n",
    "occurrences = collections.Counter(shuffled_labels_sex)\n",
    "#print(shuffled_labels_sex)\n",
    "\n"
   ]
  },
  {
   "cell_type": "code",
   "execution_count": 20,
   "metadata": {},
   "outputs": [
    {
     "name": "stdout",
     "output_type": "stream",
     "text": [
      "number of males =  318\n",
      "number of females =  338\n"
     ]
    }
   ],
   "source": [
    "print(\"number of males = \", occurrences[1])\n",
    "print(\"number of females = \", occurrences[0])"
   ]
  },
  {
   "cell_type": "code",
   "execution_count": 21,
   "metadata": {},
   "outputs": [
    {
     "name": "stdout",
     "output_type": "stream",
     "text": [
      "524\n",
      "(524, 437037)\n",
      "(132, 437037)\n"
     ]
    }
   ],
   "source": [
    "# split into training and test sets\n",
    "train_size = int(0.8*len(shuffled_labels_age))\n",
    "print(train_size)\n",
    "Y_train_age = shuffled_labels_age[:train_size]\n",
    "Y_test_age = shuffled_labels_age[train_size:len(shuffled_labels_age)]\n",
    "\n",
    "Y_train_sex = shuffled_labels_sex[:train_size]\n",
    "Y_test_sex = shuffled_labels_sex[train_size: len(shuffled_labels_sex)]\n",
    "\n",
    "X_train_cpgs = shuffled_cpg_intensities[:train_size]\n",
    "X_test_cpgs = shuffled_cpg_intensities[train_size:len(shuffled_cpg_intensities)]\n",
    "\n",
    "print(X_train_cpgs.shape)\n",
    "print(X_test_cpgs.shape)"
   ]
  },
  {
   "cell_type": "code",
   "execution_count": 22,
   "metadata": {},
   "outputs": [
    {
     "name": "stdout",
     "output_type": "stream",
     "text": [
      "[1024, 1024, 1024, 1024]\n",
      "successful run\n"
     ]
    }
   ],
   "source": [
    "# set model parameters\n",
    "node_string = '1024,1024,1024,1024'#argv[1]#'256,512,1024',1024,1024,1024'\n",
    "nodes_size = list(np.array(node_string.split(','),dtype='int32'))\n",
    "print(nodes_size)\n",
    "activation_hidden = 'sigmoid'#'relu','sigmoid'\n",
    "optimizer_use = 'sgd' #'adam','sgd'\n",
    "validation_split_use = 0.2\n",
    "epochs_use = 50\n",
    "batch_size_use = 32\n",
    "print(\"successful run\")"
   ]
  },
  {
   "cell_type": "code",
   "execution_count": 23,
   "metadata": {},
   "outputs": [],
   "source": [
    "# create model\n",
    "model = Sequential()\n",
    "n_cols = X_train_cpgs.shape[1]"
   ]
  },
  {
   "cell_type": "code",
   "execution_count": 24,
   "metadata": {},
   "outputs": [
    {
     "name": "stdout",
     "output_type": "stream",
     "text": [
      "successful run\n"
     ]
    }
   ],
   "source": [
    "# add model layers\n",
    "cats = [1,0]\n",
    "# # layers = len(nodes_size)\n",
    "for g in range(len(nodes_size)):\n",
    "    if g == 0:\n",
    "        model.add(Dense(nodes_size[g], activation = activation_hidden, input_shape=(n_cols,)))\n",
    "    else:\n",
    "        model.add(Dense(nodes_size[g], activation = activation_hidden))\n",
    "\n",
    "model.add(Dense(len(cats), activation='softmax'))\n",
    "print(\"successful run\")"
   ]
  },
  {
   "cell_type": "code",
   "execution_count": 25,
   "metadata": {},
   "outputs": [
    {
     "name": "stdout",
     "output_type": "stream",
     "text": [
      "_________________________________________________________________\n",
      "Layer (type)                 Output Shape              Param #   \n",
      "=================================================================\n",
      "dense_6 (Dense)              (None, 1024)              447526912 \n",
      "_________________________________________________________________\n",
      "dense_7 (Dense)              (None, 1024)              1049600   \n",
      "_________________________________________________________________\n",
      "dense_8 (Dense)              (None, 1024)              1049600   \n",
      "_________________________________________________________________\n",
      "dense_9 (Dense)              (None, 1024)              1049600   \n",
      "_________________________________________________________________\n",
      "dense_10 (Dense)             (None, 2)                 2050      \n",
      "=================================================================\n",
      "Total params: 450,677,762\n",
      "Trainable params: 450,677,762\n",
      "Non-trainable params: 0\n",
      "_________________________________________________________________\n"
     ]
    }
   ],
   "source": [
    "model.summary()"
   ]
  },
  {
   "cell_type": "code",
   "execution_count": null,
   "metadata": {},
   "outputs": [],
   "source": [
    "# compile model using accuracy as a measure of model performance\n",
    "model.compile(optimizer=optimizer_use, loss='categorical_crossentropy',metrics=['accuracy'])"
   ]
  },
  {
   "cell_type": "code",
   "execution_count": null,
   "metadata": {},
   "outputs": [],
   "source": [
    "# set early stopping monitor so the model stops training when it won't improve anymore\n",
    "early_stopping_monitor = EarlyStopping(patience=3)"
   ]
  },
  {
   "cell_type": "code",
   "execution_count": null,
   "metadata": {},
   "outputs": [
    {
     "name": "stdout",
     "output_type": "stream",
     "text": [
      "Train on 419 samples, validate on 105 samples\n",
      "Epoch 1/50\n",
      "419/419 [==============================] - 297s 708ms/step - loss: 0.7710 - acc: 0.4630 - val_loss: 0.8815 - val_acc: 0.4476\n",
      "Epoch 2/50\n",
      "419/419 [==============================] - 221s 527ms/step - loss: 0.7249 - acc: 0.4869 - val_loss: 0.9891 - val_acc: 0.4476\n",
      "Epoch 3/50\n",
      "419/419 [==============================] - 293s 699ms/step - loss: 0.7275 - acc: 0.4821 - val_loss: 0.9848 - val_acc: 0.4476\n",
      "Epoch 4/50\n",
      "256/419 [=================>............] - ETA: 1:02 - loss: 0.7723 - acc: 0.4922"
     ]
    }
   ],
   "source": [
    "# train DNN\n",
    "Y_train_sex = to_categorical(Y_train_sex)\n",
    "Y_train_age = Y_train_age # For age\n",
    "history_callback =model.fit(X_train_cpgs, Y_train_sex, validation_split=validation_split_use, epochs=epochs_use, callbacks=[early_stopping_monitor],batch_size=batch_size_use,verbose=1)\n",
    "#history_callback =model.fit(X_train_cpgs, Y_train_age, validation_split=validation_split_use, epochs=epochs_use, callbacks=[early_stopping_monitor],batch_size=batch_size_use,verbose=1)\n",
    "\n"
   ]
  },
  {
   "cell_type": "code",
   "execution_count": null,
   "metadata": {},
   "outputs": [],
   "source": [
    "#evaluate the model accuracy\n",
    "_, train_accuracy = model.evaluate(X_train_cpgs, Y_train_sex)\n",
    "print('Train Accuracy: %.2f' % (train_accuracy*100))"
   ]
  },
  {
   "cell_type": "code",
   "execution_count": null,
   "metadata": {},
   "outputs": [],
   "source": [
    "#test set accuracy\n",
    "Y_test_sex = to_categorical(Y_test_sex)\n",
    "_, test_accuracy = model.evaluate(X_test_cpgs, Y_test_sex)\n",
    "Y_predictions = model.predict(X_test_cpgs)\n",
    "print(Y_predictions)\n",
    "print('Test Accuracy: %.2f' % (test_accuracy*100))"
   ]
  },
  {
   "cell_type": "code",
   "execution_count": null,
   "metadata": {},
   "outputs": [],
   "source": [
    "# count number of wrongly classified p = 1/p = 0\n",
    "counter = 0\n",
    "misclass_males = 0\n",
    "misclass_females = 0\n",
    "print(Y_predictions)\n",
    "for pred in Y_predictions:\n",
    "    print(np.where(pred == max(pred)))\n",
    "    #if np.where(pred == max(pred)) != Y_test_sex[counter]:\n",
    "    #    if Y_test_sex[counter] == 1:\n",
    "     #       misclass_males += 1\n",
    "     #   else:\n",
    "      #      misclass_females += 1\n",
    "    counter += 1\n",
    "print(\"misclassified males = \", misclass_males)\n",
    "print(\"misclassified females = \", misclass_females)"
   ]
  },
  {
   "cell_type": "code",
   "execution_count": null,
   "metadata": {},
   "outputs": [],
   "source": [
    "#plot loss v val_loss for accuracy\n",
    "loss=np.array(history_callback.history[\"loss\"])\n",
    "val_loss=np.array(history_callback.history[\"val_loss\"])\n",
    "\n",
    "ymax=np.max([loss,val_loss])+(np.max([loss,val_loss])*0.1)\n",
    "ymin=np.min([loss,val_loss])-(np.min([loss,val_loss])*0.1)\n",
    "\n",
    "x=np.arange(1,len(loss)+1)\n",
    "\n",
    "legend=['loss','val_loss']\n",
    "\n",
    "rcParams['figure.figsize'] = 10, 5\n",
    "plt.title('Accuracy')\n",
    "\n",
    "plt.xlim(1,len(loss))\n",
    "plt.ylim(ymin,ymax)\n",
    "plt.ylabel('loss', fontsize = 16)\n",
    "plt.xlabel('epoch', fontsize = 16)\n",
    "plt.plot(x,loss,'-',color='red',label='training loss')\n",
    "plt.plot(x,val_loss,'-',color='blue',label='validation loss')\n",
    "plt.legend(loc='upper right')"
   ]
  },
  {
   "cell_type": "code",
   "execution_count": null,
   "metadata": {},
   "outputs": [],
   "source": [
    "plt.show()"
   ]
  },
  {
   "cell_type": "code",
   "execution_count": null,
   "metadata": {},
   "outputs": [],
   "source": [
    "#plot barplot predictions\n",
    "pops=list(cats)\n",
    "\n",
    "cmap = matplotlib.cm.get_cmap('rainbow')\n",
    "\n",
    "cols=[]\n",
    "for g in range(len(pops)):\n",
    "    cols.append(cmap(g/(len(pops)-1)))\n",
    "\n",
    "\n",
    "confusion_mat=np.zeros((len(pops),len(pops)),'int32')\n",
    "\n",
    "for g in range(len(pops)):\n",
    "    for gg in range(len(Y_test_cat)):\n",
    "        if Y_test_cat[gg]==g:\n",
    "            confusion_mat[g][Y_test_res_cat[gg]]+=1\n",
    "\n",
    "confusion_mat_per=confusion_mat/np.sum(confusion_mat,axis=1)\n",
    "\n",
    "rcParams['figure.figsize'] = 20, 10\n",
    "\n",
    "for g in range(len(pops)):\n",
    "    #plt.bar(list(np.arange(len(pops))), confusion_mat[:,g], width=0.8, label=pops[g], color=cols[g], bottom=np.sum(confusion_mat[:,g+1:],axis=1))\n",
    "    plt.bar(list(np.arange(len(pops))), confusion_mat_per[:,g], width=0.8, label=pops[g], color=cols[g], bottom=np.sum(confusion_mat_per[:,g+1:],axis=1))\n",
    "\n",
    "plt.xticks(list(np.arange(len(pops))), pops)\n",
    "plt.ylabel(\"Predicted population\")\n",
    "plt.xlabel(\"True population\")\n",
    "#plt.legend(loc=\"upper right\")\n",
    "plt.legend(bbox_to_anchor = (1.01, 1.0))\n",
    "\n",
    "plt.show()"
   ]
  }
 ],
 "metadata": {
  "kernelspec": {
   "display_name": "Python 3",
   "language": "python",
   "name": "python3"
  },
  "language_info": {
   "codemirror_mode": {
    "name": "ipython",
    "version": 3
   },
   "file_extension": ".py",
   "mimetype": "text/x-python",
   "name": "python",
   "nbconvert_exporter": "python",
   "pygments_lexer": "ipython3",
   "version": "3.6.7"
  }
 },
 "nbformat": 4,
 "nbformat_minor": 5
}
