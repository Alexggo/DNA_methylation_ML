{
 "cells": [
  {
   "cell_type": "code",
   "execution_count": null,
   "metadata": {},
   "outputs": [],
   "source": [
    "import csv \n",
    "import scipy \n",
    "import sklearn\n",
    "import os\n",
    "import random\n",
    "from random import shuffle\n",
    "import numpy as np\n",
    "import math\n",
    "import pandas as pd\n",
    "from sklearn.pipeline import make_pipeline\n",
    "from sklearn.preprocessing import StandardScaler\n",
    "#libraries for keras\n",
    "from keras.models import Sequential\n",
    "from keras.layers import Dense\n",
    "from keras.callbacks import EarlyStopping\n",
    "from tensorflow.keras.utils import to_categorical\n",
    "#libraries for plotting\n",
    "import matplotlib\n",
    "from matplotlib import rcParams\n",
    "import matplotlib.pyplot as plt\n",
    "from matplotlib.backends.backend_pdf import PdfPages\n",
    "print(\"successful run\")"
   ]
  },
  {
   "cell_type": "code",
   "execution_count": null,
   "metadata": {},
   "outputs": [],
   "source": [
    "counter = 0\n",
    "labels_age = []\n",
    "labels_sex = []\n",
    "cpg_intensities = np.zeros((656,437037))\n",
    "with open(\"../../../Datasets/out.csv\") as f:\n",
    "    for row in f:\n",
    "        participant_all_data = row.split(',')\n",
    "        labels_age.append(participant_all_data[1])\n",
    "        labels_sex.append(participant_all_data[0])\n",
    "        cpg_intensities[counter] = participant_all_data[2:437039]\n",
    "        counter += 1\n",
    "labels_age = np.array(labels_age)\n",
    "labels_sex = np.array(labels_sex)\n",
    "print(cpg_intensities.shape)\n",
    "print(labels_age.shape)\n",
    "print(labels_sex.shape)\n",
    "print(\"end\")\n"
   ]
  },
  {
   "cell_type": "code",
   "execution_count": null,
   "metadata": {},
   "outputs": [],
   "source": [
    "# shuffle the data\n",
    "import random\n",
    "import collections\n",
    "indices = [i for i in range(counter)]\n",
    "random.shuffle(indices)\n",
    "shuffled_labels_age = [float(labels_age[i]) for i in indices]\n",
    "shuffled_labels_sex = [int(float(labels_sex[j])) for j in indices]\n",
    "shuffled_cpg_intensities = [cpg_intensities[k] for k in indices]\n",
    "\n",
    "shuffled_labels_age = np.array(shuffled_labels_age)\n",
    "shuffled_labels_sex = np.array(shuffled_labels_sex)\n",
    "shuffled_cpg_intensities = np.array(shuffled_cpg_intensities)\n",
    "\n",
    "print(shuffled_cpg_intensities.shape)\n",
    "occurrences = collections.Counter(shuffled_labels_sex)\n",
    "#print(shuffled_labels_sex)\n",
    "\n"
   ]
  },
  {
   "cell_type": "code",
   "execution_count": null,
   "metadata": {},
   "outputs": [],
   "source": [
    "print(\"number of males = \", occurrences[1])\n",
    "print(\"number of females = \", occurrences[0])"
   ]
  },
  {
   "cell_type": "code",
   "execution_count": null,
   "metadata": {},
   "outputs": [],
   "source": [
    "# split into training and test sets\n",
    "train_size = int(0.8*len(shuffled_labels_age))\n",
    "print(train_size)\n",
    "Y_train_age = shuffled_labels_age[:train_size]\n",
    "Y_test_age = shuffled_labels_age[train_size:len(shuffled_labels_age)]\n",
    "\n",
    "Y_train_sex = shuffled_labels_sex[:train_size]\n",
    "Y_test_sex = shuffled_labels_sex[train_size: len(shuffled_labels_sex)]\n",
    "\n",
    "X_train_cpgs = shuffled_cpg_intensities[:train_size]\n",
    "X_test_cpgs = shuffled_cpg_intensities[train_size:len(shuffled_cpg_intensities)]\n",
    "\n",
    "print(X_train_cpgs.shape)\n",
    "print(X_test_cpgs.shape)\n",
    "\n",
    "\n",
    "\n"
   ]
  },
  {
   "cell_type": "code",
   "execution_count": null,
   "metadata": {},
   "outputs": [],
   "source": [
    "# set model parameters\n",
    "node_string = '1024,1024,1024,1024'#argv[1]#'256,512,1024',1024,1024,1024'\n",
    "nodes_size = list(np.array(node_string.split(','),dtype='int32'))\n",
    "print(nodes_size)\n",
    "activation_hidden = 'sigmoid'#'relu','sigmoid'\n",
    "optimizer_use = 'sgd' #'adam','sgd'\n",
    "validation_split_use = 0.2\n",
    "epochs_use = 50\n",
    "batch_size_use = 32\n",
    "print(\"successful run\")"
   ]
  },
  {
   "cell_type": "code",
   "execution_count": null,
   "metadata": {},
   "outputs": [],
   "source": [
    "# create model\n",
    "model = Sequential()\n",
    "n_cols = X_train_cpgs.shape[1]"
   ]
  },
  {
   "cell_type": "code",
   "execution_count": null,
   "metadata": {},
   "outputs": [],
   "source": [
    "# add model layers\n",
    "cats = [1,0]\n",
    "# # layers = len(nodes_size)\n",
    "for g in range(len(nodes_size)):\n",
    "    if g == 0:\n",
    "        model.add(Dense(nodes_size[g], activation = activation_hidden, input_shape=(n_cols,)))\n",
    "    else:\n",
    "        model.add(Dense(nodes_size[g], activation = activation_hidden))\n",
    "\n",
    "model.add(Dense(len(cats), activation='softmax'))\n",
    "print(\"successful run\")"
   ]
  },
  {
   "cell_type": "code",
   "execution_count": null,
   "metadata": {},
   "outputs": [],
   "source": [
    "model.summary()"
   ]
  },
  {
   "cell_type": "code",
   "execution_count": null,
   "metadata": {},
   "outputs": [],
   "source": [
    "# compile model using accuracy as a measure of model performance\n",
    "model.compile(optimizer=optimizer_use, loss='categorical_crossentropy',metrics=['accuracy'])"
   ]
  },
  {
   "cell_type": "code",
   "execution_count": null,
   "metadata": {},
   "outputs": [],
   "source": [
    "# set early stopping monitor so the model stops training when it won't improve anymore\n",
    "early_stopping_monitor = EarlyStopping(patience=3)"
   ]
  },
  {
   "cell_type": "code",
   "execution_count": null,
   "metadata": {},
   "outputs": [],
   "source": [
    "# train DNN\n",
    "Y_train_sex = to_categorical(Y_train_sex)\n",
    "history_callback =model.fit(X_train_cpgs, Y_train_sex, validation_split=validation_split_use, epochs=epochs_use, callbacks=[early_stopping_monitor],batch_size=batch_size_use,verbose=1)\n",
    "\n"
   ]
  },
  {
   "cell_type": "code",
   "execution_count": null,
   "metadata": {},
   "outputs": [],
   "source": [
    "#evaluate the model accuracy\n",
    "_, train_accuracy = model.evaluate(X_train_cpgs, Y_train_sex)\n",
    "print('Train Accuracy: %.2f' % (train_accuracy*100))"
   ]
  },
  {
   "cell_type": "code",
   "execution_count": null,
   "metadata": {},
   "outputs": [],
   "source": [
    "#test set accuracy\n",
    "Y_test_sex = to_categorical(Y_test_sex)\n",
    "_, test_accuracy = model.evaluate(X_test_cpgs, Y_test_sex)\n",
    "Y_predictions = model.predict(X_test_cpgs)\n",
    "print(Y_predictions)\n",
    "print('Test Accuracy: %.2f' % (test_accuracy*100))"
   ]
  },
  {
   "cell_type": "code",
   "execution_count": null,
   "metadata": {},
   "outputs": [],
   "source": [
    "# count number of wrongly classified p = 1/p = 0\n",
    "counter = 0\n",
    "misclass_males = 0\n",
    "misclass_females = 0\n",
    "print(Y_predictions)\n",
    "for pred in Y_predictions:\n",
    "    print(np.where(pred == max(pred)))\n",
    "    #if np.where(pred == max(pred)) != Y_test_sex[counter]:\n",
    "    #    if Y_test_sex[counter] == 1:\n",
    "     #       misclass_males += 1\n",
    "     #   else:\n",
    "      #      misclass_females += 1\n",
    "    counter += 1\n",
    "print(\"misclassified males = \", misclass_males)\n",
    "print(\"misclassified females = \", misclass_females)\n",
    "    "
   ]
  },
  {
   "cell_type": "code",
   "execution_count": null,
   "metadata": {},
   "outputs": [],
   "source": []
  }
 ],
 "metadata": {
  "kernelspec": {
   "display_name": "Python 3",
   "language": "python",
   "name": "python3"
  },
  "language_info": {
   "codemirror_mode": {
    "name": "ipython",
    "version": 3
   },
   "file_extension": ".py",
   "mimetype": "text/x-python",
   "name": "python",
   "nbconvert_exporter": "python",
   "pygments_lexer": "ipython3",
   "version": "3.6.7"
  }
 },
 "nbformat": 4,
 "nbformat_minor": 5
}
