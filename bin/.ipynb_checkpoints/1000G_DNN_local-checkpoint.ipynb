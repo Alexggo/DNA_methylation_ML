{
 "cells": [
  {
   "cell_type": "code",
<<<<<<< HEAD
   "execution_count": null,
=======
   "execution_count": 1,
>>>>>>> e756c5a0c1808edc2713d3d9c15ae1d9d9eae505
   "metadata": {
    "id": "Dxl2ON0LUGCN"
   },
   "outputs": [],
   "source": [
    "import string\n",
    "import numpy as np\n",
    "import random\n",
    "from random import shuffle"
   ]
  },
  {
   "cell_type": "code",
   "execution_count": null,
   "metadata": {
    "id": "Q9PPewceUGCS"
   },
   "outputs": [],
   "source": [
    "#libraries for keras\n",
    "from keras.models import Sequential\n",
    "from keras.layers import Dense\n",
    "from keras.callbacks import EarlyStopping\n",
    "from tensorflow.keras.utils import to_categorical"
   ]
  },
  {
   "cell_type": "code",
   "execution_count": null,
   "metadata": {
    "id": "OCme4isWUGCT"
   },
   "outputs": [],
   "source": [
    "#libraries for plotting\n",
    "import matplotlib\n",
    "from matplotlib import rcParams\n",
    "import matplotlib.pyplot as plt\n",
    "from matplotlib.backends.backend_pdf import PdfPages"
   ]
  },
  {
   "cell_type": "code",
   "execution_count": null,
   "metadata": {
    "colab": {
     "base_uri": "https://localhost:8080/",
     "height": 244
    },
    "executionInfo": {
     "elapsed": 399,
     "status": "error",
     "timestamp": 1631744706180,
     "user": {
      "displayName": "Allen Kim",
      "photoUrl": "https://lh3.googleusercontent.com/a/default-user=s64",
      "userId": "01751376702322066512"
     },
     "user_tz": 240
    },
    "id": "9qqzv6BAUGCU",
    "outputId": "6b7f1be6-2417-4b66-b14f-8e8e12a310cb"
   },
   "outputs": [
    {
     "ename": "FileNotFoundError",
     "evalue": "ignored",
     "output_type": "error",
     "traceback": [
      "\u001b[0;31m---------------------------------------------------------------------------\u001b[0m",
      "\u001b[0;31mFileNotFoundError\u001b[0m                         Traceback (most recent call last)",
      "\u001b[0;32m<ipython-input-1-d7e00461cffe>\u001b[0m in \u001b[0;36m<module>\u001b[0;34m()\u001b[0m\n\u001b[1;32m      1\u001b[0m \u001b[0;31m#load data\u001b[0m\u001b[0;34m\u001b[0m\u001b[0;34m\u001b[0m\u001b[0;34m\u001b[0m\u001b[0m\n\u001b[0;32m----> 2\u001b[0;31m \u001b[0mfile\u001b[0m\u001b[0;34m=\u001b[0m\u001b[0mopen\u001b[0m\u001b[0;34m(\u001b[0m\u001b[0;34m'1000G_Omni_chr2.format'\u001b[0m\u001b[0;34m,\u001b[0m\u001b[0;34m'r'\u001b[0m\u001b[0;34m)\u001b[0m\u001b[0;34m\u001b[0m\u001b[0;34m\u001b[0m\u001b[0m\n\u001b[0m\u001b[1;32m      3\u001b[0m \u001b[0mdata\u001b[0m\u001b[0;34m=\u001b[0m\u001b[0mfile\u001b[0m\u001b[0;34m.\u001b[0m\u001b[0mread\u001b[0m\u001b[0;34m(\u001b[0m\u001b[0;34m)\u001b[0m\u001b[0;34m\u001b[0m\u001b[0;34m\u001b[0m\u001b[0m\n\u001b[1;32m      4\u001b[0m \u001b[0mdata\u001b[0m\u001b[0;34m=\u001b[0m\u001b[0mdata\u001b[0m\u001b[0;34m.\u001b[0m\u001b[0msplit\u001b[0m\u001b[0;34m(\u001b[0m\u001b[0;34m'\\n'\u001b[0m\u001b[0;34m)\u001b[0m\u001b[0;34m\u001b[0m\u001b[0;34m\u001b[0m\u001b[0m\n\u001b[1;32m      5\u001b[0m \u001b[0;32mif\u001b[0m \u001b[0mdata\u001b[0m\u001b[0;34m[\u001b[0m\u001b[0;34m-\u001b[0m\u001b[0;36m1\u001b[0m\u001b[0;34m]\u001b[0m\u001b[0;34m==\u001b[0m\u001b[0;34m''\u001b[0m\u001b[0;34m:\u001b[0m\u001b[0;34m\u001b[0m\u001b[0;34m\u001b[0m\u001b[0m\n",
      "\u001b[0;31mFileNotFoundError\u001b[0m: [Errno 2] No such file or directory: '1000G_Omni_chr2.format'"
     ]
    }
   ],
   "source": [
    "#load data\n",
    "file=open('1000G_Omni_chr2.format','r')\n",
    "data=file.read()\n",
    "data=data.split('\\n')\n",
    "if data[-1]=='':\n",
    "    del(data[-1])\n",
    "\n",
    "head=data[0].split(' ')\n",
    "\n",
    "nb_snps=len(head[3:])\n",
    "nb_samps=len(data)-1\n",
    "\n",
    "\n",
    "index_list=list(np.arange(0,len(data)-1))\n",
    "shuffle(index_list)"
   ]
  },
  {
   "cell_type": "code",
   "execution_count": null,
   "metadata": {
    "id": "97fmSHc1khBR"
   },
   "outputs": [],
   "source": [
    "from google.colab import drive\n",
    "drive.mount('/content/drive')"
   ]
  },
  {
   "cell_type": "code",
   "execution_count": null,
   "metadata": {
    "colab": {
     "base_uri": "https://localhost:8080/"
    },
    "executionInfo": {
     "elapsed": 31,
     "status": "ok",
     "timestamp": 1631742881919,
     "user": {
      "displayName": "Alejandro Gil Gomez",
      "photoUrl": "https://lh3.googleusercontent.com/a-/AOh14GiFboXceBJGkLTAPzCIF1Dru2WY1b9cwEQ-Xu8ZKg=s64",
      "userId": "17097371603615158382"
     },
     "user_tz": 240
    },
    "id": "u7QGX9kHUGCV",
    "outputId": "1fd931e1-1a90-42ff-d35e-09b921fdef09"
   },
   "outputs": [
    {
     "name": "stdout",
     "output_type": "stream",
     "text": [
      "ID SUPER_POP POP 2:14238_A rs4632379_G 2:15703_G rs116294988_T 2:18674_A 2:18856_A rs7560258_T 2:275\n",
      "HG00096 EUR GBR 0 0 0 0 0 0 0 0 0 0 0 0 0 0 0 0 0 0 0 0 0 0 1 0 0 0 0 0 0 0 0 0 1 0 0 0 0 0 0 0 1 1 \n",
      "HG00097 EUR GBR 0 0 0 0 0 0 0 0 0 0 0 0 0 0 0 0 0 0 0 0 0 0 2 0 0 0 0 0 0 0 0 0 0 0 0 0 0 0 0 0 0 0 \n"
     ]
    }
   ],
   "source": [
    "print(data[0][:100])\n",
    "print(data[1][:100])\n",
    "print(data[2][:100])"
   ]
  },
  {
   "cell_type": "code",
   "execution_count": null,
   "metadata": {
    "id": "u6W65BxwUGCX"
   },
   "outputs": [],
   "source": [
    "#choose input label\n",
    "pop_col=2"
   ]
  },
  {
   "cell_type": "code",
   "execution_count": null,
   "metadata": {
    "id": "k5RmMNnMUGCX"
   },
   "outputs": [],
   "source": [
    "#put genos into array (x)\n",
    "genos=np.zeros((nb_samps,nb_snps),dtype='int32')\n",
    "labels=[]\n",
    "\n",
    "for g in range(len(index_list)):\n",
    "    k=data[index_list[g]+1].split(' ')\n",
    "    labels.append(k[pop_col])\n",
    "    genos[g]=k[3:]"
   ]
  },
  {
   "cell_type": "code",
   "execution_count": null,
   "metadata": {
    "colab": {
     "base_uri": "https://localhost:8080/"
    },
    "executionInfo": {
     "elapsed": 140,
     "status": "ok",
     "timestamp": 1631741652706,
     "user": {
      "displayName": "Alejandro Gil Gomez",
      "photoUrl": "https://lh3.googleusercontent.com/a-/AOh14GiFboXceBJGkLTAPzCIF1Dru2WY1b9cwEQ-Xu8ZKg=s64",
      "userId": "17097371603615158382"
     },
     "user_tz": 240
    },
    "id": "UfOPitjtUGCY",
    "outputId": "82b56916-5023-481b-bda7-b6afbd714020"
   },
   "outputs": [
    {
     "name": "stdout",
     "output_type": "stream",
     "text": [
      "[[0 0 0 ... 0 0 0]\n",
      " [0 0 0 ... 0 0 0]\n",
      " [0 0 0 ... 0 0 0]\n",
      " ...\n",
      " [0 0 0 ... 0 0 0]\n",
      " [0 0 0 ... 0 0 0]\n",
      " [0 0 0 ... 0 0 0]]\n"
     ]
    }
   ],
   "source": [
    "print(genos)"
   ]
  },
  {
   "cell_type": "code",
   "execution_count": null,
   "metadata": {
    "id": "qrtmDRp4UGCZ"
   },
   "outputs": [],
   "source": [
    "#put labels into array (y)\n",
    "Y_all=np.array(labels)\n",
    "\n",
    "use_rows=np.where(Y_all!='UNKNOWN')[0]\n",
    "\n",
    "cats=np.unique(Y_all[use_rows])\n",
    "\n",
    "Y_cat=np.zeros(len(Y_all[use_rows]))\n",
    "\n",
    "for g in range(len(cats)):\n",
    "    Y_cat[np.where(Y_all[use_rows]==cats[g])[0]]=g\n",
    "\n",
    "Y_cat_bin=to_categorical(Y_cat)"
   ]
  },
  {
   "cell_type": "code",
   "execution_count": null,
   "metadata": {
    "colab": {
     "base_uri": "https://localhost:8080/"
    },
    "executionInfo": {
     "elapsed": 441,
     "status": "ok",
     "timestamp": 1631741716744,
     "user": {
      "displayName": "Alejandro Gil Gomez",
      "photoUrl": "https://lh3.googleusercontent.com/a-/AOh14GiFboXceBJGkLTAPzCIF1Dru2WY1b9cwEQ-Xu8ZKg=s64",
      "userId": "17097371603615158382"
     },
     "user_tz": 240
    },
    "id": "AWp5nZPDUGCa",
    "outputId": "42c4a8ff-9a66-41f3-ede4-266ebded1792"
   },
   "outputs": [
    {
     "name": "stdout",
     "output_type": "stream",
     "text": [
      "['FIN' 'GBR']\n",
      "['GBR' 'GBR' 'GBR' 'GBR' 'GBR' 'GBR' 'GBR' 'GBR' 'GBR' 'GBR' 'GBR' 'GBR'\n",
      " 'GBR' 'GBR' 'GBR' 'GBR' 'GBR' 'GBR' 'GBR' 'GBR' 'GBR' 'GBR' 'GBR' 'GBR'\n",
      " 'GBR' 'GBR' 'GBR' 'GBR' 'FIN']\n",
      "[1. 1. 1. 1. 1. 1. 1. 1. 1. 1. 1. 1. 1. 1. 1. 1. 1. 1. 1. 1. 1. 1. 1. 1.\n",
      " 1. 1. 1. 1. 0.]\n",
      "[[0. 1.]\n",
      " [0. 1.]\n",
      " [0. 1.]\n",
      " [0. 1.]\n",
      " [0. 1.]\n",
      " [0. 1.]\n",
      " [0. 1.]\n",
      " [0. 1.]\n",
      " [0. 1.]\n",
      " [0. 1.]\n",
      " [0. 1.]\n",
      " [0. 1.]\n",
      " [0. 1.]\n",
      " [0. 1.]\n",
      " [0. 1.]\n",
      " [0. 1.]\n",
      " [0. 1.]\n",
      " [0. 1.]\n",
      " [0. 1.]\n",
      " [0. 1.]\n",
      " [0. 1.]\n",
      " [0. 1.]\n",
      " [0. 1.]\n",
      " [0. 1.]\n",
      " [0. 1.]\n",
      " [0. 1.]\n",
      " [0. 1.]\n",
      " [0. 1.]\n",
      " [1. 0.]]\n"
     ]
    }
   ],
   "source": [
    "print (cats)\n",
    "print (Y_all)\n",
    "print (Y_cat)\n",
    "print (Y_cat_bin)"
   ]
  },
  {
   "cell_type": "code",
   "execution_count": null,
   "metadata": {
    "id": "DNaTBUxnUGCa"
   },
   "outputs": [],
   "source": [
    "#divide data into Y and X training and test sets\n",
    "train_size=100\n",
    "test_size=200\n",
    "\n",
    "Y_train=Y_cat_bin[:train_size]\n",
    "Y_test=Y_cat_bin[train_size:train_size+test_size]\n",
    "\n",
    "X_train=genos[use_rows][:train_size]\n",
    "X_test=genos[use_rows][train_size:train_size+test_size]"
   ]
  },
  {
   "cell_type": "code",
   "execution_count": null,
   "metadata": {
    "id": "oMfq2trzUGCb"
   },
   "outputs": [],
   "source": [
    "#set model parameters\n",
    "node_string='16,32'#argv[1]#'256,512,1024',1024,1024,1024'\n",
    "nodes_size=list(np.array(node_string.split(','),dtype='int32'))\n",
    "activation_hidden='sigmoid'#'relu','sigmoid'\n",
    "optimizer_use='sgd' #'adam','sgd'\n",
    "validation_split_use=0.2\n",
    "epochs_use=50\n",
    "batch_size_use=32"
   ]
  },
  {
   "cell_type": "code",
   "execution_count": null,
   "metadata": {
    "id": "pO_C_mMlUGCb"
   },
   "outputs": [],
   "source": [
    "#create model\n",
    "model = Sequential()\n",
    "n_cols = X_train.shape[1]\n",
    "\n"
   ]
  },
  {
   "cell_type": "code",
   "execution_count": null,
   "metadata": {
    "id": "T1w2KumWUGCb"
   },
   "outputs": [],
   "source": [
    "#add model layers\n",
    "for g in range(len(nodes_size)):\n",
    "    if g==0:\n",
    "        model.add(Dense(nodes_size[g], activation=activation_hidden, input_shape=(n_cols,)))\n",
    "    else:\n",
    "        model.add(Dense(nodes_size[g], activation=activation_hidden))\n",
    "\n",
    "model.add(Dense(len(cats), activation='softmax'))"
   ]
  },
  {
   "cell_type": "code",
   "execution_count": null,
   "metadata": {
    "colab": {
     "base_uri": "https://localhost:8080/"
    },
    "executionInfo": {
     "elapsed": 149,
     "status": "ok",
     "timestamp": 1631742498065,
     "user": {
      "displayName": "Alejandro Gil Gomez",
      "photoUrl": "https://lh3.googleusercontent.com/a-/AOh14GiFboXceBJGkLTAPzCIF1Dru2WY1b9cwEQ-Xu8ZKg=s64",
      "userId": "17097371603615158382"
     },
     "user_tz": 240
    },
    "id": "sg90RGbkUGCc",
    "outputId": "12202612-fbc8-433b-b030-b05703dec35a"
   },
   "outputs": [
    {
     "name": "stdout",
     "output_type": "stream",
     "text": [
      "Model: \"sequential_3\"\n",
      "_________________________________________________________________\n",
      "Layer (type)                 Output Shape              Param #   \n",
      "=================================================================\n",
      "dense_19 (Dense)             (None, 16)                2748224   \n",
      "_________________________________________________________________\n",
      "dense_20 (Dense)             (None, 32)                544       \n",
      "_________________________________________________________________\n",
      "dense_21 (Dense)             (None, 2)                 66        \n",
      "=================================================================\n",
      "Total params: 2,748,834\n",
      "Trainable params: 2,748,834\n",
      "Non-trainable params: 0\n",
      "_________________________________________________________________\n"
     ]
    }
   ],
   "source": [
    "#view model\n",
    "model.summary()"
   ]
  },
  {
   "cell_type": "code",
   "execution_count": null,
   "metadata": {
    "id": "SGt2zfwfUGCc"
   },
   "outputs": [],
   "source": [
    "#compile model using accuracy as a measure of model performance\n",
    "model.compile(optimizer=optimizer_use, loss='categorical_crossentropy',metrics=['accuracy'])\n"
   ]
  },
  {
   "cell_type": "code",
   "execution_count": null,
   "metadata": {
    "id": "TuG8jOzvUGCd"
   },
   "outputs": [],
   "source": [
    "#set early stopping monitor so the model stops training when it won't improve anymore\n",
    "early_stopping_monitor = EarlyStopping(patience=3)"
   ]
  },
  {
   "cell_type": "code",
   "execution_count": null,
   "metadata": {
    "colab": {
     "base_uri": "https://localhost:8080/"
    },
    "executionInfo": {
     "elapsed": 5679,
     "status": "ok",
     "timestamp": 1631742559856,
     "user": {
      "displayName": "Alejandro Gil Gomez",
      "photoUrl": "https://lh3.googleusercontent.com/a-/AOh14GiFboXceBJGkLTAPzCIF1Dru2WY1b9cwEQ-Xu8ZKg=s64",
      "userId": "17097371603615158382"
     },
     "user_tz": 240
    },
    "id": "D0nyvbLvUGCd",
    "outputId": "449e8338-7154-46a1-e42e-46e768f7b098"
   },
   "outputs": [
    {
     "name": "stdout",
     "output_type": "stream",
     "text": [
      "Epoch 1/50\n",
      "1/1 [==============================] - 1s 569ms/step - loss: 0.8417 - accuracy: 0.0000e+00 - val_loss: 0.5677 - val_accuracy: 1.0000\n",
      "Epoch 2/50\n",
      "1/1 [==============================] - 0s 41ms/step - loss: 0.5662 - accuracy: 1.0000 - val_loss: 0.5222 - val_accuracy: 1.0000\n",
      "Epoch 3/50\n",
      "1/1 [==============================] - 0s 39ms/step - loss: 0.5202 - accuracy: 1.0000 - val_loss: 0.4852 - val_accuracy: 1.0000\n",
      "Epoch 4/50\n",
      "1/1 [==============================] - 0s 48ms/step - loss: 0.4832 - accuracy: 1.0000 - val_loss: 0.4528 - val_accuracy: 1.0000\n",
      "Epoch 5/50\n",
      "1/1 [==============================] - 0s 57ms/step - loss: 0.4510 - accuracy: 1.0000 - val_loss: 0.4241 - val_accuracy: 1.0000\n",
      "Epoch 6/50\n",
      "1/1 [==============================] - 0s 48ms/step - loss: 0.4224 - accuracy: 1.0000 - val_loss: 0.3983 - val_accuracy: 1.0000\n",
      "Epoch 7/50\n",
      "1/1 [==============================] - 0s 45ms/step - loss: 0.3967 - accuracy: 1.0000 - val_loss: 0.3750 - val_accuracy: 1.0000\n",
      "Epoch 8/50\n",
      "1/1 [==============================] - 0s 51ms/step - loss: 0.3735 - accuracy: 1.0000 - val_loss: 0.3539 - val_accuracy: 1.0000\n",
      "Epoch 9/50\n",
      "1/1 [==============================] - 0s 48ms/step - loss: 0.3525 - accuracy: 1.0000 - val_loss: 0.3346 - val_accuracy: 1.0000\n",
      "Epoch 10/50\n",
      "1/1 [==============================] - 0s 46ms/step - loss: 0.3334 - accuracy: 1.0000 - val_loss: 0.3171 - val_accuracy: 1.0000\n",
      "Epoch 11/50\n",
      "1/1 [==============================] - 0s 49ms/step - loss: 0.3159 - accuracy: 1.0000 - val_loss: 0.3010 - val_accuracy: 1.0000\n",
      "Epoch 12/50\n",
      "1/1 [==============================] - 0s 41ms/step - loss: 0.2999 - accuracy: 1.0000 - val_loss: 0.2863 - val_accuracy: 1.0000\n",
      "Epoch 13/50\n",
      "1/1 [==============================] - 0s 52ms/step - loss: 0.2853 - accuracy: 1.0000 - val_loss: 0.2728 - val_accuracy: 1.0000\n",
      "Epoch 14/50\n",
      "1/1 [==============================] - 0s 54ms/step - loss: 0.2718 - accuracy: 1.0000 - val_loss: 0.2603 - val_accuracy: 1.0000\n",
      "Epoch 15/50\n",
      "1/1 [==============================] - 0s 39ms/step - loss: 0.2594 - accuracy: 1.0000 - val_loss: 0.2488 - val_accuracy: 1.0000\n",
      "Epoch 16/50\n",
      "1/1 [==============================] - 0s 47ms/step - loss: 0.2479 - accuracy: 1.0000 - val_loss: 0.2382 - val_accuracy: 1.0000\n",
      "Epoch 17/50\n",
      "1/1 [==============================] - 0s 48ms/step - loss: 0.2373 - accuracy: 1.0000 - val_loss: 0.2283 - val_accuracy: 1.0000\n",
      "Epoch 18/50\n",
      "1/1 [==============================] - 0s 52ms/step - loss: 0.2275 - accuracy: 1.0000 - val_loss: 0.2191 - val_accuracy: 1.0000\n",
      "Epoch 19/50\n",
      "1/1 [==============================] - 0s 52ms/step - loss: 0.2183 - accuracy: 1.0000 - val_loss: 0.2106 - val_accuracy: 1.0000\n",
      "Epoch 20/50\n",
      "1/1 [==============================] - 0s 43ms/step - loss: 0.2098 - accuracy: 1.0000 - val_loss: 0.2026 - val_accuracy: 1.0000\n",
      "Epoch 21/50\n",
      "1/1 [==============================] - 0s 49ms/step - loss: 0.2019 - accuracy: 1.0000 - val_loss: 0.1952 - val_accuracy: 1.0000\n",
      "Epoch 22/50\n",
      "1/1 [==============================] - 0s 49ms/step - loss: 0.1945 - accuracy: 1.0000 - val_loss: 0.1882 - val_accuracy: 1.0000\n",
      "Epoch 23/50\n",
      "1/1 [==============================] - 0s 48ms/step - loss: 0.1875 - accuracy: 1.0000 - val_loss: 0.1816 - val_accuracy: 1.0000\n",
      "Epoch 24/50\n",
      "1/1 [==============================] - 0s 46ms/step - loss: 0.1810 - accuracy: 1.0000 - val_loss: 0.1755 - val_accuracy: 1.0000\n",
      "Epoch 25/50\n",
      "1/1 [==============================] - 0s 40ms/step - loss: 0.1749 - accuracy: 1.0000 - val_loss: 0.1697 - val_accuracy: 1.0000\n",
      "Epoch 26/50\n",
      "1/1 [==============================] - 0s 50ms/step - loss: 0.1691 - accuracy: 1.0000 - val_loss: 0.1642 - val_accuracy: 1.0000\n",
      "Epoch 27/50\n",
      "1/1 [==============================] - 0s 42ms/step - loss: 0.1636 - accuracy: 1.0000 - val_loss: 0.1591 - val_accuracy: 1.0000\n",
      "Epoch 28/50\n",
      "1/1 [==============================] - 0s 43ms/step - loss: 0.1585 - accuracy: 1.0000 - val_loss: 0.1542 - val_accuracy: 1.0000\n",
      "Epoch 29/50\n",
      "1/1 [==============================] - 0s 47ms/step - loss: 0.1537 - accuracy: 1.0000 - val_loss: 0.1496 - val_accuracy: 1.0000\n",
      "Epoch 30/50\n",
      "1/1 [==============================] - 0s 52ms/step - loss: 0.1491 - accuracy: 1.0000 - val_loss: 0.1452 - val_accuracy: 1.0000\n",
      "Epoch 31/50\n",
      "1/1 [==============================] - 0s 44ms/step - loss: 0.1447 - accuracy: 1.0000 - val_loss: 0.1410 - val_accuracy: 1.0000\n",
      "Epoch 32/50\n",
      "1/1 [==============================] - 0s 58ms/step - loss: 0.1406 - accuracy: 1.0000 - val_loss: 0.1371 - val_accuracy: 1.0000\n",
      "Epoch 33/50\n",
      "1/1 [==============================] - 0s 49ms/step - loss: 0.1366 - accuracy: 1.0000 - val_loss: 0.1333 - val_accuracy: 1.0000\n",
      "Epoch 34/50\n",
      "1/1 [==============================] - 0s 49ms/step - loss: 0.1329 - accuracy: 1.0000 - val_loss: 0.1298 - val_accuracy: 1.0000\n",
      "Epoch 35/50\n",
      "1/1 [==============================] - 0s 48ms/step - loss: 0.1293 - accuracy: 1.0000 - val_loss: 0.1264 - val_accuracy: 1.0000\n",
      "Epoch 36/50\n",
      "1/1 [==============================] - 0s 45ms/step - loss: 0.1260 - accuracy: 1.0000 - val_loss: 0.1231 - val_accuracy: 1.0000\n",
      "Epoch 37/50\n",
      "1/1 [==============================] - 0s 41ms/step - loss: 0.1227 - accuracy: 1.0000 - val_loss: 0.1200 - val_accuracy: 1.0000\n",
      "Epoch 38/50\n",
      "1/1 [==============================] - 0s 51ms/step - loss: 0.1196 - accuracy: 1.0000 - val_loss: 0.1171 - val_accuracy: 1.0000\n",
      "Epoch 39/50\n",
      "1/1 [==============================] - 0s 49ms/step - loss: 0.1167 - accuracy: 1.0000 - val_loss: 0.1142 - val_accuracy: 1.0000\n",
      "Epoch 40/50\n",
      "1/1 [==============================] - 0s 44ms/step - loss: 0.1139 - accuracy: 1.0000 - val_loss: 0.1115 - val_accuracy: 1.0000\n",
      "Epoch 41/50\n",
      "1/1 [==============================] - 0s 43ms/step - loss: 0.1112 - accuracy: 1.0000 - val_loss: 0.1089 - val_accuracy: 1.0000\n",
      "Epoch 42/50\n",
      "1/1 [==============================] - 0s 46ms/step - loss: 0.1086 - accuracy: 1.0000 - val_loss: 0.1064 - val_accuracy: 1.0000\n",
      "Epoch 43/50\n",
      "1/1 [==============================] - 0s 53ms/step - loss: 0.1061 - accuracy: 1.0000 - val_loss: 0.1040 - val_accuracy: 1.0000\n",
      "Epoch 44/50\n",
      "1/1 [==============================] - 0s 44ms/step - loss: 0.1037 - accuracy: 1.0000 - val_loss: 0.1018 - val_accuracy: 1.0000\n",
      "Epoch 45/50\n",
      "1/1 [==============================] - 0s 44ms/step - loss: 0.1014 - accuracy: 1.0000 - val_loss: 0.0996 - val_accuracy: 1.0000\n",
      "Epoch 46/50\n",
      "1/1 [==============================] - 0s 46ms/step - loss: 0.0992 - accuracy: 1.0000 - val_loss: 0.0974 - val_accuracy: 1.0000\n",
      "Epoch 47/50\n",
      "1/1 [==============================] - 0s 41ms/step - loss: 0.0971 - accuracy: 1.0000 - val_loss: 0.0954 - val_accuracy: 1.0000\n",
      "Epoch 48/50\n",
      "1/1 [==============================] - 0s 43ms/step - loss: 0.0951 - accuracy: 1.0000 - val_loss: 0.0935 - val_accuracy: 1.0000\n",
      "Epoch 49/50\n",
      "1/1 [==============================] - 0s 54ms/step - loss: 0.0932 - accuracy: 1.0000 - val_loss: 0.0916 - val_accuracy: 1.0000\n",
      "Epoch 50/50\n",
      "1/1 [==============================] - 0s 57ms/step - loss: 0.0913 - accuracy: 1.0000 - val_loss: 0.0898 - val_accuracy: 1.0000\n"
     ]
    }
   ],
   "source": [
    "#train DNN\n",
    "history_callback =model.fit(X_train, Y_train, validation_split=validation_split_use, epochs=epochs_use, callbacks=[early_stopping_monitor],batch_size=batch_size_use,verbose=1)"
   ]
  },
  {
   "cell_type": "code",
   "execution_count": null,
   "metadata": {
    "colab": {
     "base_uri": "https://localhost:8080/"
    },
    "executionInfo": {
     "elapsed": 125,
     "status": "ok",
     "timestamp": 1631742678463,
     "user": {
      "displayName": "Alejandro Gil Gomez",
      "photoUrl": "https://lh3.googleusercontent.com/a-/AOh14GiFboXceBJGkLTAPzCIF1Dru2WY1b9cwEQ-Xu8ZKg=s64",
      "userId": "17097371603615158382"
     },
     "user_tz": 240
    },
    "id": "fEtR-d21UGCd",
    "outputId": "0d7fa2b1-ca4f-4a00-9e0c-81d3d30bebad"
   },
   "outputs": [
    {
     "name": "stdout",
     "output_type": "stream",
     "text": [
      "1/1 [==============================] - 0s 25ms/step - loss: 0.0895 - accuracy: 1.0000\n",
      "Train Accuracy: 100.00\n"
     ]
    }
   ],
   "source": [
    "#evaluate the model accuracy\n",
    "_, train_accuracy = model.evaluate(X_train, Y_train)\n",
    "print('Train Accuracy: %.2f' % (train_accuracy*100))"
   ]
  },
  {
   "cell_type": "code",
   "execution_count": null,
   "metadata": {
    "colab": {
     "base_uri": "https://localhost:8080/"
    },
    "executionInfo": {
     "elapsed": 152,
     "status": "ok",
     "timestamp": 1631742700250,
     "user": {
      "displayName": "Alejandro Gil Gomez",
      "photoUrl": "https://lh3.googleusercontent.com/a-/AOh14GiFboXceBJGkLTAPzCIF1Dru2WY1b9cwEQ-Xu8ZKg=s64",
      "userId": "17097371603615158382"
     },
     "user_tz": 240
    },
    "id": "p0Lnzge-UGCe",
    "outputId": "fd263fe9-a65e-4e8b-a744-98b5f47d1807"
   },
   "outputs": [
    {
     "name": "stdout",
     "output_type": "stream",
     "text": [
      "1/1 [==============================] - 0s 40ms/step - loss: 0.1830 - accuracy: 0.9474\n",
      "Test Accuracy: 94.74\n"
     ]
    }
   ],
   "source": [
    "#test set accuracy\n",
    "_, test_accuracy = model.evaluate(X_test, Y_test)\n",
    "print('Test Accuracy: %.2f' % (test_accuracy*100))"
   ]
  },
  {
   "cell_type": "code",
   "execution_count": null,
   "metadata": {
    "colab": {
     "base_uri": "https://localhost:8080/"
    },
    "executionInfo": {
     "elapsed": 369,
     "status": "ok",
     "timestamp": 1631742781167,
     "user": {
      "displayName": "Alejandro Gil Gomez",
      "photoUrl": "https://lh3.googleusercontent.com/a-/AOh14GiFboXceBJGkLTAPzCIF1Dru2WY1b9cwEQ-Xu8ZKg=s64",
      "userId": "17097371603615158382"
     },
     "user_tz": 240
    },
    "id": "MdZo13RVUGCe",
    "outputId": "b7d77539-bbc9-43b4-cfec-f4c3ecb95594"
   },
   "outputs": [
    {
     "name": "stdout",
     "output_type": "stream",
     "text": [
      "[[0. 1.]\n",
      " [0. 1.]\n",
      " [0. 1.]\n",
      " [0. 1.]\n",
      " [0. 1.]]\n",
      "[[0.08573606 0.91426396]\n",
      " [0.08531951 0.9146805 ]\n",
      " [0.08553798 0.91446203]\n",
      " [0.08547754 0.91452247]\n",
      " [0.08563161 0.91436845]]\n"
     ]
    }
   ],
   "source": [
    "#predict data set aside\n",
    "Y_test_res=model.predict(X_test)\n",
    "print (Y_test[:5])\n",
    "print (Y_test_res[:5])"
   ]
  },
  {
   "cell_type": "code",
   "execution_count": null,
   "metadata": {
    "colab": {
     "base_uri": "https://localhost:8080/"
    },
    "executionInfo": {
     "elapsed": 111,
     "status": "ok",
     "timestamp": 1631742785224,
     "user": {
      "displayName": "Alejandro Gil Gomez",
      "photoUrl": "https://lh3.googleusercontent.com/a-/AOh14GiFboXceBJGkLTAPzCIF1Dru2WY1b9cwEQ-Xu8ZKg=s64",
      "userId": "17097371603615158382"
     },
     "user_tz": 240
    },
    "id": "X4wd8PghUGCf",
    "outputId": "2695a62c-9278-4eb5-f16f-9a8b2e0391ee"
   },
   "outputs": [
    {
     "name": "stdout",
     "output_type": "stream",
     "text": [
      "1 1\n",
      "1 1\n",
      "1 1\n",
      "1 1\n",
      "1 1\n",
      "1 1\n",
      "1 1\n",
      "1 1\n",
      "1 1\n",
      "1 1\n"
     ]
    }
   ],
   "source": [
    "#visually compare true and predicted Y vals\n",
    "Y_test_res_cat=np.argmax(Y_test_res,axis=1)\n",
    "Y_test_cat=np.argmax(Y_test,axis=1)\n",
    "\n",
    "for g in range(10):\n",
    "    print (Y_test_cat[g],Y_test_res_cat[g])\n",
    "    \n"
   ]
  },
  {
   "cell_type": "code",
   "execution_count": null,
   "metadata": {
    "colab": {
     "base_uri": "https://localhost:8080/",
     "height": 372
    },
    "executionInfo": {
     "elapsed": 800,
     "status": "ok",
     "timestamp": 1631742788674,
     "user": {
      "displayName": "Alejandro Gil Gomez",
      "photoUrl": "https://lh3.googleusercontent.com/a-/AOh14GiFboXceBJGkLTAPzCIF1Dru2WY1b9cwEQ-Xu8ZKg=s64",
      "userId": "17097371603615158382"
     },
     "user_tz": 240
    },
    "id": "F84hghCQUGCf",
    "outputId": "cdb1a890-a263-4cd4-9b47-de3405ca82e1"
   },
   "outputs": [
    {
     "data": {
      "text/plain": [
       "<matplotlib.legend.Legend at 0x7f0b3bf7db90>"
      ]
     },
     "execution_count": 58,
     "metadata": {},
     "output_type": "execute_result"
    },
    {
     "data": {
      "image/png": "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\n",
      "text/plain": [
       "<Figure size 720x360 with 1 Axes>"
      ]
     },
     "metadata": {
      "needs_background": "light"
     },
     "output_type": "display_data"
    }
   ],
   "source": [
    "#plot loss v val_loss for accuracy\n",
    "loss=np.array(history_callback.history[\"loss\"])\n",
    "val_loss=np.array(history_callback.history[\"val_loss\"])\n",
    "\n",
    "ymax=np.max([loss,val_loss])+(np.max([loss,val_loss])*0.1)\n",
    "ymin=np.min([loss,val_loss])-(np.min([loss,val_loss])*0.1)\n",
    "\n",
    "x=np.arange(1,len(loss)+1)\n",
    "\n",
    "legend=['loss','val_loss']\n",
    "\n",
    "rcParams['figure.figsize'] = 10, 5\n",
    "plt.title('Accuracy')\n",
    "\n",
    "plt.xlim(1,len(loss))\n",
    "plt.ylim(ymin,ymax)\n",
    "plt.ylabel('loss', fontsize = 16)\n",
    "plt.xlabel('epoch', fontsize = 16)\n",
    "plt.plot(x,loss,'-',color='red',label='training loss')\n",
    "plt.plot(x,val_loss,'-',color='blue',label='validation loss')\n",
    "plt.legend(loc='upper right')"
   ]
  },
  {
   "cell_type": "code",
   "execution_count": null,
   "metadata": {
    "id": "EbuKX4UDUGCg"
   },
   "outputs": [],
   "source": [
    "plt.show()"
   ]
  },
  {
   "cell_type": "code",
   "execution_count": null,
   "metadata": {
    "colab": {
     "base_uri": "https://localhost:8080/",
     "height": 610
    },
    "executionInfo": {
     "elapsed": 362,
     "status": "ok",
     "timestamp": 1631742807831,
     "user": {
      "displayName": "Alejandro Gil Gomez",
      "photoUrl": "https://lh3.googleusercontent.com/a-/AOh14GiFboXceBJGkLTAPzCIF1Dru2WY1b9cwEQ-Xu8ZKg=s64",
      "userId": "17097371603615158382"
     },
     "user_tz": 240
    },
    "id": "awFfgSUlUGCg",
    "outputId": "887d6696-2146-4715-9c10-7360fd31e43a"
   },
   "outputs": [
    {
     "data": {
      "image/png": "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\n",
      "text/plain": [
       "<Figure size 1440x720 with 1 Axes>"
      ]
     },
     "metadata": {
      "needs_background": "light"
     },
     "output_type": "display_data"
    }
   ],
   "source": [
    "#plot barplot predictions\n",
    "pops=list(cats)\n",
    "\n",
    "cmap = matplotlib.cm.get_cmap('rainbow')\n",
    "\n",
    "cols=[]\n",
    "for g in range(len(pops)):\n",
    "    cols.append(cmap(g/(len(pops)-1)))\n",
    "\n",
    "\n",
    "confusion_mat=np.zeros((len(pops),len(pops)),'int32')\n",
    "\n",
    "for g in range(len(pops)):\n",
    "    for gg in range(len(Y_test_cat)):\n",
    "        if Y_test_cat[gg]==g:\n",
    "            confusion_mat[g][Y_test_res_cat[gg]]+=1\n",
    "\n",
    "confusion_mat_per=confusion_mat/np.sum(confusion_mat,axis=1)\n",
    "\n",
    "rcParams['figure.figsize'] = 20, 10\n",
    "\n",
    "for g in range(len(pops)):\n",
    "    #plt.bar(list(np.arange(len(pops))), confusion_mat[:,g], width=0.8, label=pops[g], color=cols[g], bottom=np.sum(confusion_mat[:,g+1:],axis=1))\n",
    "    plt.bar(list(np.arange(len(pops))), confusion_mat_per[:,g], width=0.8, label=pops[g], color=cols[g], bottom=np.sum(confusion_mat_per[:,g+1:],axis=1))\n",
    "\n",
    "plt.xticks(list(np.arange(len(pops))), pops)\n",
    "plt.ylabel(\"Predicted population\")\n",
    "plt.xlabel(\"True population\")\n",
    "#plt.legend(loc=\"upper right\")\n",
    "plt.legend(bbox_to_anchor = (1.01, 1.0))\n",
    "\n",
    "plt.show()"
   ]
  }
 ],
 "metadata": {
  "colab": {
   "name": "1000G_DNN_local.ipynb",
   "provenance": []
  },
  "kernelspec": {
   "display_name": "Python 3",
   "language": "python",
   "name": "python3"
  },
  "language_info": {
   "codemirror_mode": {
    "name": "ipython",
    "version": 3
   },
   "file_extension": ".py",
   "mimetype": "text/x-python",
   "name": "python",
   "nbconvert_exporter": "python",
   "pygments_lexer": "ipython3",
   "version": "3.6.7"
  }
 },
 "nbformat": 4,
 "nbformat_minor": 1
}
